{
 "cells": [
  {
   "cell_type": "markdown",
   "metadata": {},
   "source": [
    "## 인공지능 큐레이션 _NLP \n",
    "####                                                                 테스트 시작일 2020-11-03        김채은"
   ]
  },
  {
   "cell_type": "markdown",
   "metadata": {},
   "source": [
    "### 1. NPL 맛보기"
   ]
  },
  {
   "cell_type": "code",
   "execution_count": 1,
   "metadata": {},
   "outputs": [],
   "source": [
    "sentence = \"코끼리를 잡아먹은 보아뱀 이야기가 널리 퍼져 아이든 어른이든 그 유명한 그림을 보여줬을 때코끼리를 잡아먹은 보아뱀 이라고 답하게 되자 작가인 생텍쥐베리는 이 사실에 절망감을 느꼈다\""
   ]
  },
  {
   "cell_type": "code",
   "execution_count": 2,
   "metadata": {},
   "outputs": [
    {
     "data": {
      "text/plain": [
       "True"
      ]
     },
     "execution_count": 2,
     "metadata": {},
     "output_type": "execute_result"
    }
   ],
   "source": [
    "#sentence안에 보아뱀 있는지 > T/F\n",
    "'보아뱀' in sentence"
   ]
  },
  {
   "cell_type": "code",
   "execution_count": 3,
   "metadata": {},
   "outputs": [
    {
     "data": {
      "text/plain": [
       "36"
      ]
     },
     "execution_count": 3,
     "metadata": {},
     "output_type": "execute_result"
    }
   ],
   "source": [
    "#index알려줘\n",
    "sentence.index('유명한')"
   ]
  },
  {
   "cell_type": "code",
   "execution_count": 4,
   "metadata": {},
   "outputs": [
    {
     "data": {
      "text/plain": [
       "4"
      ]
     },
     "execution_count": 4,
     "metadata": {},
     "output_type": "execute_result"
    }
   ],
   "source": [
    "#공백기준으로 문자열 나누고 index알려줘\n",
    "sentence.split().index('널리')"
   ]
  },
  {
   "cell_type": "code",
   "execution_count": 5,
   "metadata": {},
   "outputs": [
    {
     "data": {
      "text/plain": [
       "'보아뱀'"
      ]
     },
     "execution_count": 5,
     "metadata": {},
     "output_type": "execute_result"
    }
   ],
   "source": [
    "sentence.split()[2]"
   ]
  },
  {
   "cell_type": "code",
   "execution_count": 6,
   "metadata": {},
   "outputs": [
    {
     "data": {
      "text/plain": [
       "'뱀아보'"
      ]
     },
     "execution_count": 6,
     "metadata": {},
     "output_type": "execute_result"
    }
   ],
   "source": [
    "#역순 [::-1]\n",
    "sentence.split()[2][::-1]"
   ]
  },
  {
   "cell_type": "code",
   "execution_count": 7,
   "metadata": {},
   "outputs": [
    {
     "name": "stdout",
     "output_type": "stream",
     "text": [
      "코끼리를 느꼈다\n"
     ]
    }
   ],
   "source": [
    "#첫단어와 마지막단어 연결\n",
    "words = sentence.split()\n",
    "first_word = words[0]\n",
    "last_word = words[len(words)-1]\n",
    "concat_word = first_word + \" \" + last_word\n",
    "print(concat_word)"
   ]
  },
  {
   "cell_type": "code",
   "execution_count": 8,
   "metadata": {},
   "outputs": [
    {
     "data": {
      "text/plain": [
       "['코끼리를',\n",
       " '보아뱀',\n",
       " '널리',\n",
       " '아이든',\n",
       " '그',\n",
       " '그림을',\n",
       " '때코끼리를',\n",
       " '보아뱀',\n",
       " '답하게',\n",
       " '작가인',\n",
       " '이',\n",
       " '절망감을']"
      ]
     },
     "execution_count": 8,
     "metadata": {},
     "output_type": "execute_result"
    }
   ],
   "source": [
    "#짝수위치 단어\n",
    "[words[i] for i in range(len(words)) if i%2 == 0]"
   ]
  },
  {
   "cell_type": "code",
   "execution_count": 9,
   "metadata": {},
   "outputs": [
    {
     "data": {
      "text/plain": [
       "'느꼈다'"
      ]
     },
     "execution_count": 9,
     "metadata": {},
     "output_type": "execute_result"
    }
   ],
   "source": [
    "#마지막 세글자\n",
    "sentence[-3:]"
   ]
  },
  {
   "cell_type": "code",
   "execution_count": 10,
   "metadata": {},
   "outputs": [
    {
     "name": "stdout",
     "output_type": "stream",
     "text": [
      "를리끼코 은먹아잡 뱀아보 가기야이 리널 져퍼 든이아 든이른어 그 한명유 을림그 을줬여보 를리끼코때 은먹아잡 뱀아보 고라이 게하답 자되 인가작 는리베쥐텍생 이 에실사 을감망절 다꼈느\n"
     ]
    }
   ],
   "source": [
    "#문장전체 역순\n",
    "sentence[::-1]\n",
    "\n",
    "#단어순서 유지하고 단어역순\n",
    "print(' '.join([word[::-1] for word in words]))"
   ]
  },
  {
   "cell_type": "markdown",
   "metadata": {},
   "source": [
    "### 2. TOKENIZATION"
   ]
  },
  {
   "cell_type": "code",
   "execution_count": 11,
   "metadata": {},
   "outputs": [
    {
     "name": "stdout",
     "output_type": "stream",
     "text": [
      "showing info https://raw.githubusercontent.com/nltk/nltk_data/gh-pages/index.xml\n"
     ]
    }
   ],
   "source": [
    "import nltk\n",
    "# nltk.download()\n",
    "from nltk import word_tokenize"
   ]
  },
  {
   "cell_type": "code",
   "execution_count": 14,
   "metadata": {},
   "outputs": [
    {
     "name": "stdout",
     "output_type": "stream",
     "text": [
      "['코끼리를', '잡아먹은', '보아뱀', '이야기가', '널리', '퍼져', '아이든', '어른이든', '그', '유명한', '그림을', '보여줬을', '때코끼리를', '잡아먹은', '보아뱀', '이라고', '답하게', '되자', '작가인', '생텍쥐베리는', '이', '사실에', '절망감을', '느꼈다']\n"
     ]
    }
   ],
   "source": [
    "words = word_tokenize(\"코끼리를 잡아먹은 보아뱀 이야기가 널리 퍼져 아이든 어른이든 그 유명한 그림을 보여줬을 때코끼리를 잡아먹은 보아뱀 이라고 답하게 되자 작가인 생텍쥐베리는 이 사실에 절망감을 느꼈다\")\n",
    "print(words)"
   ]
  },
  {
   "cell_type": "markdown",
   "metadata": {},
   "source": [
    "### 3. PoS tagging"
   ]
  },
  {
   "cell_type": "code",
   "execution_count": 17,
   "metadata": {},
   "outputs": [
    {
     "data": {
      "text/plain": [
       "[('코끼리를', 'JJ'),\n",
       " ('잡아먹은', 'NNP'),\n",
       " ('보아뱀', 'NNP'),\n",
       " ('이야기가', 'NNP'),\n",
       " ('널리', 'NNP'),\n",
       " ('퍼져', 'NNP'),\n",
       " ('아이든', 'NNP'),\n",
       " ('어른이든', 'NNP'),\n",
       " ('그', 'NNP'),\n",
       " ('유명한', 'NNP'),\n",
       " ('그림을', 'NNP'),\n",
       " ('보여줬을', 'NNP'),\n",
       " ('때코끼리를', 'NNP'),\n",
       " ('잡아먹은', 'NNP'),\n",
       " ('보아뱀', 'NNP'),\n",
       " ('이라고', 'NNP'),\n",
       " ('답하게', 'NNP'),\n",
       " ('되자', 'NNP'),\n",
       " ('작가인', 'NNP'),\n",
       " ('생텍쥐베리는', 'NNP'),\n",
       " ('이', 'NNP'),\n",
       " ('사실에', 'NNP'),\n",
       " ('절망감을', 'NNP'),\n",
       " ('느꼈다', 'NN')]"
      ]
     },
     "execution_count": 17,
     "metadata": {},
     "output_type": "execute_result"
    }
   ],
   "source": [
    "nltk.pos_tag(words)"
   ]
  },
  {
   "cell_type": "markdown",
   "metadata": {},
   "source": [
    "### 4. 불용어 제거"
   ]
  },
  {
   "cell_type": "markdown",
   "metadata": {},
   "source": [
    "### 한국어 불용어 데이터셋 만들고 적용하기"
   ]
  },
  {
   "cell_type": "markdown",
   "metadata": {},
   "source": [
    "### 5. Text Normalization"
   ]
  },
  {
   "cell_type": "code",
   "execution_count": 1,
   "metadata": {},
   "outputs": [],
   "source": [
    "sentence = \"I visited US from UK on 22-10-18\""
   ]
  },
  {
   "cell_type": "code",
   "execution_count": 3,
   "metadata": {},
   "outputs": [],
   "source": [
    "normalized_sentence = sentence.replace(\"US\", \"United States\").replace(\"UK\", \"United Kingdom\").replace(\"-18\", \"-2018\")"
   ]
  },
  {
   "cell_type": "code",
   "execution_count": 6,
   "metadata": {},
   "outputs": [
    {
     "name": "stdout",
     "output_type": "stream",
     "text": [
      "I visited United States from United Kingdom on 22-10-2018\n"
     ]
    }
   ],
   "source": [
    "print(normalized_sentence)"
   ]
  },
  {
   "cell_type": "markdown",
   "metadata": {},
   "source": [
    "### 6. Spelling correction"
   ]
  },
  {
   "cell_type": "code",
   "execution_count": null,
   "metadata": {},
   "outputs": [],
   "source": []
  }
 ],
 "metadata": {
  "kernelspec": {
   "display_name": "Python 3",
   "language": "python",
   "name": "python3"
  },
  "language_info": {
   "codemirror_mode": {
    "name": "ipython",
    "version": 3
   },
   "file_extension": ".py",
   "mimetype": "text/x-python",
   "name": "python",
   "nbconvert_exporter": "python",
   "pygments_lexer": "ipython3",
   "version": "3.8.3"
  }
 },
 "nbformat": 4,
 "nbformat_minor": 4
}
